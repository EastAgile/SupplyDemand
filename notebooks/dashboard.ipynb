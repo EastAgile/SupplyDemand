{
 "cells": [
  {
   "cell_type": "code",
   "execution_count": 6,
   "metadata": {
    "scrolled": false
   },
   "outputs": [
    {
     "data": {
      "text/html": [
       "<style>.container { width:60% !important; }</style>"
      ],
      "text/plain": [
       "<IPython.core.display.HTML object>"
      ]
     },
     "metadata": {},
     "output_type": "display_data"
    },
    {
     "name": "stdout",
     "output_type": "stream",
     "text": [
      "The autoreload extension is already loaded. To reload it, use:\n",
      "  %reload_ext autoreload\n"
     ]
    }
   ],
   "source": [
    "from IPython.core.display import display, HTML\n",
    "display(HTML(\"<style>.container { width:60% !important; }</style>\"))\n",
    "\n",
    "%load_ext autoreload\n",
    "%autoreload 2"
   ]
  },
  {
   "cell_type": "code",
   "execution_count": 7,
   "metadata": {
    "scrolled": false
   },
   "outputs": [],
   "source": [
    "import ipywidgets as widgets # provides interactive functionality\n",
    "from IPython.display import HTML, display, clear_output # display and html functionality\n",
    "import pandas as pd\n",
    "import csv # csv import functionality\n",
    "import warnings # needed for suppression of unnecessary warnings\n",
    "import base64 # functionality for encoding binary data to ASCII characters and decoding back to binary data\n",
    "import fit_models as fits\n",
    "import plot_fits as plot_fits\n",
    "import hospital_needs as needs\n",
    "\n",
    "warnings.filterwarnings('ignore')\n",
    "%config InlineBackend.figure_format = 'svg' # configure to display scalable vector graphics"
   ]
  },
  {
   "cell_type": "code",
   "execution_count": 12,
   "metadata": {
    "scrolled": false
   },
   "outputs": [
    {
     "data": {
      "application/vnd.jupyter.widget-view+json": {
       "model_id": "700765abb5b34c909b0dfabf9e5fcc26",
       "version_major": 2,
       "version_minor": 0
      },
      "text/plain": [
       "VBox(children=(GridspecLayout(children=(VBox(children=(HBox(children=(VBox(children=(HBox(children=(Dropdown(d…"
      ]
     },
     "metadata": {},
     "output_type": "display_data"
    },
    {
     "data": {
      "application/vnd.jupyter.widget-view+json": {
       "model_id": "f6e6b69e025c472499ec4ad196968b11",
       "version_major": 2,
       "version_minor": 0
      },
      "text/plain": [
       "HBox(children=(Button(button_style='info', description='Click to update plots and tables. Do this after runnin…"
      ]
     },
     "metadata": {},
     "output_type": "display_data"
    },
    {
     "data": {
      "application/vnd.jupyter.widget-view+json": {
       "model_id": "49058e1ed91247deabe24339344470ef",
       "version_major": 2,
       "version_minor": 0
      },
      "text/plain": [
       "Output()"
      ]
     },
     "metadata": {},
     "output_type": "display_data"
    }
   ],
   "source": [
    "testing = 0\n",
    "\n",
    "if testing == 1:\n",
    "    seir_fits_df = pd.read_csv('SEIR-SD_States_Update.txt', sep='\\t')\n",
    "else:\n",
    "    try:\n",
    "        seir_fits_df = pd.read_csv('https://raw.githubusercontent.com/Rush-Quality-Analytics/SupplyDemand/master/notebooks/SEIR-SD_States_Update.txt', sep='\\t')\n",
    "    except:\n",
    "        seir_fits_df = pd.read_csv('SEIR-SD_States_Update.txt', sep='\\t')\n",
    "\n",
    "if testing == 1:\n",
    "    statepops = pd.read_csv('StatePops.csv')\n",
    "else:\n",
    "    try: \n",
    "        path = 'https://raw.githubusercontent.com/Rush-Quality-Analytics/SupplyDemand/master/notebooks/StatePops.csv'\n",
    "        statepops = pd.read_csv('path')\n",
    "\n",
    "    except:\n",
    "        statepops = pd.read_csv('StatePops.csv')\n",
    "\n",
    "if testing == 1:\n",
    "    ap_df = pd.read_csv('COVID-CASES-DF.txt', sep='\\t') \n",
    "    ap_df = ap_df[ap_df['Country/Region'] == 'US']\n",
    "    ap_df = ap_df[ap_df['Province/State'] != 'US']\n",
    "    ap_df = ap_df[ap_df['Province/State'] != 'American Samoa']\n",
    "    ap_df = ap_df[ap_df['Province/State'] != 'Northern Mariana Islands']\n",
    "    ap_df.drop(columns=['Unnamed: 0'], inplace=True)\n",
    "    \n",
    "else:\n",
    "    try: \n",
    "        ap_df = pd.read_csv('https://raw.githubusercontent.com/Rush-Quality-Analytics/SupplyDemand/master/notebooks/COVID-CASES-DF.txt', sep='\\t') \n",
    "        ap_df = ap_df[ap_df['Country/Region'] == 'US']\n",
    "        ap_df = ap_df[ap_df['Province/State'] != 'US']\n",
    "        ap_df = ap_df[ap_df['Province/State'] != 'American Samoa']\n",
    "        ap_df = ap_df[ap_df['Province/State'] != 'Northern Mariana Islands']\n",
    "        ap_df.drop(columns=['Unnamed: 0'], inplace=True)\n",
    "    except:\n",
    "        ap_df = pd.read_csv('COVID-CASES-DF.txt', sep='\\t') \n",
    "        ap_df = ap_df[ap_df['Country/Region'] == 'US']\n",
    "        ap_df = ap_df[ap_df['Province/State'] != 'US']\n",
    "        ap_df = ap_df[ap_df['Province/State'] != 'American Samoa']\n",
    "        ap_df = ap_df[ap_df['Province/State'] != 'Northern Mariana Islands']\n",
    "        ap_df.drop(columns=['Unnamed: 0'], inplace=True)\n",
    "\n",
    "\n",
    "\n",
    "    \n",
    "global app2    \n",
    "app0 = fits.App_GetFits.fits(ap_df, statepops, seir_fits_df)\n",
    "grid0 = widgets.GridspecLayout(1, 1)\n",
    "grid0[0, 0] = app0.container\n",
    "app_contents0 = [grid0]\n",
    "app00 = widgets.VBox(app_contents0, layout=widgets.Layout(align_items='center'))\n",
    "display(app00)\n",
    "\n",
    "\n",
    "\n",
    "b1 = widgets.Button(description='Click to update plots and tables. Do this after running a different model and/or choosing a different state or territory.',\n",
    "    disabled=False, button_style='info', tooltip='Click me', layout={'width': '1000px'}, icon='')\n",
    "box_layout = widgets.Layout(display='flex',flex_flow='column',align_items='center',width='100%')\n",
    "box1 = widgets.HBox(children=[b1],layout=box_layout)\n",
    "display(box1)\n",
    "app1 = plot_fits.App_PlotFits.generate_plot(app0._model_fits_df)\n",
    "\n",
    "box_layout = widgets.Layout(display='flex',flex_flow='column',align_items='center',width='100%')\n",
    "\n",
    "out2 = widgets.Output()\n",
    "app2 = needs.App_GetNeeds.from_url(app0.ForecastDays, app0._model_fits_df, app0.new_cases)\n",
    "\n",
    "with out2:    \n",
    "    grid2 = widgets.GridspecLayout(1, 1)\n",
    "    grid2[0, 0] = app2.container\n",
    "    app_contents2 = [grid2]\n",
    "    app22 = widgets.VBox(app_contents2, layout=widgets.Layout(align_items='center'))\n",
    "    display(app22)\n",
    "display(out2)\n",
    "\n",
    "\n",
    "def on_button_clicked1(b1):\n",
    "    global app2, app0\n",
    "    def update_out2(out2):\n",
    "        global app2, app0\n",
    "        with out2:\n",
    "            app2 = needs.App_GetNeeds.from_url(app0.ForecastDays, app0._model_fits_df, app0.new_cases)\n",
    "            grid2 = widgets.GridspecLayout(1, 1)\n",
    "            grid2[0, 0] = app2.container\n",
    "            app_contents2 = [grid2]\n",
    "            app22 = widgets.VBox(app_contents2, layout=widgets.Layout(align_items='center'))\n",
    "            clear_output(wait=True)\n",
    "            display(app22)\n",
    "    update_out2(out2)\n",
    "    \n",
    "b1.on_click(on_button_clicked1)\n"
   ]
  },
  {
   "cell_type": "code",
   "execution_count": null,
   "metadata": {
    "scrolled": false
   },
   "outputs": [],
   "source": []
  }
 ],
 "metadata": {
  "hide_input": false,
  "kernelspec": {
   "display_name": "Python 3",
   "language": "python",
   "name": "python3"
  },
  "language_info": {
   "codemirror_mode": {
    "name": "ipython",
    "version": 3
   },
   "file_extension": ".py",
   "mimetype": "text/x-python",
   "name": "python",
   "nbconvert_exporter": "python",
   "pygments_lexer": "ipython3",
   "version": "3.8.2"
  },
  "toc": {
   "base_numbering": 1,
   "nav_menu": {},
   "number_sections": true,
   "sideBar": true,
   "skip_h1_title": true,
   "title_cell": "Table of Contents",
   "title_sidebar": "Contents",
   "toc_cell": true,
   "toc_position": {},
   "toc_section_display": true,
   "toc_window_display": false
  },
  "varInspector": {
   "cols": {
    "lenName": 16,
    "lenType": 16,
    "lenVar": 40
   },
   "kernels_config": {
    "python": {
     "delete_cmd_postfix": "",
     "delete_cmd_prefix": "del ",
     "library": "var_list.py",
     "varRefreshCmd": "print(var_dic_list())"
    },
    "r": {
     "delete_cmd_postfix": ") ",
     "delete_cmd_prefix": "rm(",
     "library": "var_list.r",
     "varRefreshCmd": "cat(var_dic_list()) "
    }
   },
   "types_to_exclude": [
    "module",
    "function",
    "builtin_function_or_method",
    "instance",
    "_Feature"
   ],
   "window_display": false
  }
 },
 "nbformat": 4,
 "nbformat_minor": 2
}
