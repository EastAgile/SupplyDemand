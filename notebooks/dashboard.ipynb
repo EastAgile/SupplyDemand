{
 "cells": [
  {
   "cell_type": "code",
   "execution_count": 1,
   "metadata": {},
   "outputs": [],
   "source": [
    "import ipywidgets as widgets # provides interactive functionality\n",
    "from IPython.display import HTML, display, clear_output # display and html functionality\n",
    "import pandas as pd\n",
    "import csv # csv import functionality\n",
    "import time # library for time functionality\n",
    "\n",
    "import warnings # needed for suppression of unnecessary warnings\n",
    "import base64 # functionality for encoding binary data to ASCII characters and decoding back to binary data\n",
    "\n",
    "import fit_models as fits\n",
    "import plot_fits as plot_fits\n",
    "import hospital_needs as needs\n",
    "\n",
    "warnings.filterwarnings('ignore')\n",
    "%config InlineBackend.figure_format = 'svg' # configure to display scalable vector graphics"
   ]
  },
  {
   "cell_type": "markdown",
   "metadata": {},
   "source": [
    "<img src=\"RUSH_full_color.jpg\" style=\"float:left; margin:0px 0px 0px 0px\" markdown=\"1\" width=\"400\"/>\n",
    "<font size=\"5\" color='green'>Center for Quality, Safety & Value Analytics</font>"
   ]
  },
  {
   "cell_type": "markdown",
   "metadata": {},
   "source": [
    "\n",
    "[Click for instructions on using this calculator](https://webalyticos.home.blog/2020/03/24/covd19forecast/)"
   ]
  },
  {
   "cell_type": "code",
   "execution_count": 2,
   "metadata": {
    "scrolled": false
   },
   "outputs": [
    {
     "data": {
      "application/vnd.jupyter.widget-view+json": {
       "model_id": "bad8891634b14511aa31257b68b5cb1e",
       "version_major": 2,
       "version_minor": 0
      },
      "text/plain": [
       "VBox(children=(GridspecLayout(children=(VBox(children=(HBox(children=(VBox(children=(HBox(children=(Dropdown(d…"
      ]
     },
     "metadata": {},
     "output_type": "display_data"
    },
    {
     "data": {
      "application/vnd.jupyter.widget-view+json": {
       "model_id": "d0b999a6e1db4faeaa90771caa0dd0da",
       "version_major": 2,
       "version_minor": 0
      },
      "text/plain": [
       "HBox(children=(Button(button_style='info', description='Update plot', layout=Layout(width='400px'), style=Butt…"
      ]
     },
     "metadata": {},
     "output_type": "display_data"
    },
    {
     "data": {
      "application/vnd.jupyter.widget-view+json": {
       "model_id": "4c23543810cc47ddb7f61bdab32ee757",
       "version_major": 2,
       "version_minor": 0
      },
      "text/plain": [
       "Output()"
      ]
     },
     "metadata": {},
     "output_type": "display_data"
    },
    {
     "data": {
      "application/vnd.jupyter.widget-view+json": {
       "model_id": "1c1928205eb04dcc8e938a8c6331bba1",
       "version_major": 2,
       "version_minor": 0
      },
      "text/plain": [
       "HBox(children=(Button(button_style='info', description='Update plot and table', layout=Layout(width='400px'), …"
      ]
     },
     "metadata": {},
     "output_type": "display_data"
    },
    {
     "data": {
      "application/vnd.jupyter.widget-view+json": {
       "model_id": "3ff724f477cb42da9c77dcc4d270655f",
       "version_major": 2,
       "version_minor": 0
      },
      "text/plain": [
       "Output()"
      ]
     },
     "metadata": {},
     "output_type": "display_data"
    }
   ],
   "source": [
    "ap_df = pd.read_csv('COVID-CASES-DF.txt', sep='\\t') \n",
    "ap_df = ap_df[ap_df['Country/Region'] == 'US']\n",
    "ap_df = ap_df[ap_df['Province/State'] != 'US']\n",
    "ap_df.drop(columns=['Unnamed: 0'], inplace=True)\n",
    "statepops = pd.read_csv('StatePops.csv')\n",
    "\n",
    "\n",
    "app0 = fits.App_GetFits.fits(ap_df, statepops)\n",
    "grid0 = widgets.GridspecLayout(1, 1)\n",
    "grid0[0, 0] = app0.container\n",
    "app_contents0 = [grid0]\n",
    "app00 = widgets.VBox(app_contents0, layout=widgets.Layout(align_items='center'))\n",
    "display(app00)\n",
    "\n",
    "\n",
    "\n",
    "\n",
    "\n",
    "\n",
    "b1 = widgets.Button(description='Click to update plot. Do this after running a different model and/or choosing a different state or territory. The plot will update after the model finishes.',\n",
    "    disabled=False, button_style='info', tooltip='Click me', layout={'width': '1000px'}, icon='')\n",
    "box_layout = widgets.Layout(display='flex',flex_flow='column',align_items='center',width='100%')\n",
    "box1 = widgets.HBox(children=[b1],layout=box_layout)\n",
    "display(box1)\n",
    "\n",
    "out1 = widgets.Output()\n",
    "with out1:\n",
    "    app1 = plot_fits.App_PlotFits.generate_plot(app0._model_fits_df)\n",
    "    grid1 = widgets.GridspecLayout(1, 1)\n",
    "    grid1[0, 0] = app1.container\n",
    "    app_contents1 = [grid1]\n",
    "    app11 = widgets.VBox(app_contents1, layout=widgets.Layout(align_items='center'))\n",
    "    display(app11)\n",
    "        \n",
    "display(out1)\n",
    "\n",
    "def on_button_clicked(b1):\n",
    "    \n",
    "    with out1:\n",
    "        app1 = plot_fits.App_PlotFits.generate_plot(app0._model_fits_df)\n",
    "        grid1 = widgets.GridspecLayout(1, 1)\n",
    "        grid1[0, 0] = app1.container\n",
    "        app_contents1 = [grid1]\n",
    "        app11 = widgets.VBox(app_contents1, layout=widgets.Layout(align_items='center'))\n",
    "        clear_output(wait=True)\n",
    "        display(app11)\n",
    "\n",
    "b1.on_click(on_button_clicked)\n",
    "\n",
    "\n",
    "\n",
    "\n",
    "\n",
    "\n",
    "\n",
    "\n",
    "b2 = widgets.Button(description='Click to update plot. Do this after running a different model and/or choosing a different state or territory. The plot will update after the model finishes.',\n",
    "    disabled=False, button_style='info', tooltip='Click me', layout={'width': '1000px'}, icon='')\n",
    "box_layout = widgets.Layout(display='flex',flex_flow='column',align_items='center',width='100%')\n",
    "box2 = widgets.HBox(children=[b2],layout=box_layout)\n",
    "display(box2)\n",
    "\n",
    "out2 = widgets.Output()\n",
    "with out2:\n",
    "    app2 = needs.App_GetNeeds.from_url(app0.ForecastDays, app0._model_fits_df, app0.new_cases)\n",
    "    grid2 = widgets.GridspecLayout(1, 1)\n",
    "    grid2[0, 0] = app2.container\n",
    "    app_contents2 = [grid2]\n",
    "    app22 = widgets.VBox(app_contents2, layout=widgets.Layout(align_items='center'))\n",
    "    display(app22)\n",
    "        \n",
    "display(out2)\n",
    "\n",
    "def on_button_clicked(b2):\n",
    "    \n",
    "    with out2:\n",
    "        app2 = needs.App_GetNeeds.from_url(app0.ForecastDays, app0._model_fits_df, app0.new_cases)\n",
    "        grid2 = widgets.GridspecLayout(1, 1)\n",
    "        grid2[0, 0] = app2.container\n",
    "        app_contents2 = [grid2]\n",
    "        app22 = widgets.VBox(app_contents2, layout=widgets.Layout(align_items='center'))\n",
    "        clear_output(wait=True)\n",
    "        display(app22)\n",
    "\n",
    "b2.on_click(on_button_clicked)\n",
    "\n",
    "\n",
    "\n"
   ]
  },
  {
   "cell_type": "code",
   "execution_count": 3,
   "metadata": {},
   "outputs": [
    {
     "data": {
      "application/vnd.jupyter.widget-view+json": {
       "model_id": "ee109a2e532f444a9161672027fe30e9",
       "version_major": 2,
       "version_minor": 0
      },
      "text/plain": [
       "HBox(children=(Button(button_style='info', description='Get csv files for data contained within the above tabl…"
      ]
     },
     "metadata": {},
     "output_type": "display_data"
    },
    {
     "data": {
      "application/vnd.jupyter.widget-view+json": {
       "model_id": "a04cf51e014c4a3ca652367ccd358ca0",
       "version_major": 2,
       "version_minor": 0
      },
      "text/plain": [
       "Output()"
      ]
     },
     "metadata": {},
     "output_type": "display_data"
    }
   ],
   "source": [
    "b = widgets.Button(description='Get csv files for data contained within the above tables',\n",
    "    disabled=False, button_style='info', tooltip='Click me', layout={'width': '400px'}, icon='')\n",
    "box_layout = widgets.Layout(display='flex',flex_flow='column',align_items='center',width='100%')\n",
    "box3 = widgets.HBox(children=[b],layout=box_layout)\n",
    "display(box3)\n",
    "\n",
    "out = widgets.Output()\n",
    "display(out)\n",
    "\n",
    "\n",
    "def on_button_clicked(b):\n",
    "    Forecasted_cases_df_for_download = app2.Forecasted_cases_df_for_download\n",
    "    Forecasted_patient_census_df_for_download = app2.Forecasted_patient_census_df_for_download\n",
    "    Forecasted_ppe_needs_df_for_download = app2.Forecasted_ppe_needs_df_for_download\n",
    "    model = app0.model\n",
    "    \n",
    "    with out:\n",
    "        clear_output()\n",
    "        \n",
    "        df = Forecasted_cases_df_for_download\n",
    "        title = \"Download CSV file of forecasted COVID-19 cases for \" + model + \" model\"\n",
    "        filename = \"Forecasted_COVID19_Cases.csv\"\n",
    "        csv = df.to_csv()\n",
    "        b64 = base64.b64encode(csv.encode())\n",
    "        payload = b64.decode()\n",
    "        html = '<a download=\"{filename}\" href=\"data:text/csv;base64,{payload}\" style=\"left; margin:0px 0px 0px 0px\" size=\"4\" target=\"_blank\">{title}</a>'\n",
    "        html = html.format(payload=payload,title=title,filename=filename)\n",
    "        display(HTML(html))\n",
    "        \n",
    "        \n",
    "        df = Forecasted_patient_census_df_for_download\n",
    "        title = \"Download CSV file of forecasted patient census for \" + model + \" model\" \n",
    "        filename = \"Forecasted_COVID19_Patient_Census.csv\"\n",
    "        csv = df.to_csv()\n",
    "        b64 = base64.b64encode(csv.encode())\n",
    "        payload = b64.decode()\n",
    "        html = '<a download=\"{filename}\" href=\"data:text/csv;base64,{payload}\" style=\"left; margin:0px 0px 0px 0px\" size=\"4\" target=\"_blank\">{title}</a>'\n",
    "        html = html.format(payload=payload,title=title,filename=filename)\n",
    "        display(HTML(html))\n",
    "        \n",
    "        \n",
    "        df = Forecasted_ppe_needs_df_for_download\n",
    "        title = \"Download CSV file of forecasted PPE needs for \" + model + \" model\"\n",
    "        filename = \"Forecasted_COVID19_PPE_Needs.csv\"\n",
    "        csv = df.to_csv()\n",
    "        b64 = base64.b64encode(csv.encode())\n",
    "        payload = b64.decode()\n",
    "        html = '<a download=\"{filename}\" href=\"data:text/csv;base64,{payload}\" style=\"left; margin:0px 0px 0px 0px\" size=\"4\" target=\"_blank\">{title}</a>'\n",
    "        html = html.format(payload=payload,title=title,filename=filename)\n",
    "        display(HTML(html))\n",
    "        \n",
    "        print('CSV Files will clear after 20 seconds')\n",
    "        time.sleep(20)\n",
    "        clear_output()\n",
    "        \n",
    "b.on_click(on_button_clicked)"
   ]
  },
  {
   "cell_type": "markdown",
   "metadata": {},
   "source": [
    "\n",
    "<body style=\"margin: 0px 0px 0px 0px; background-color: rgb(255, 255, 255); color: rgb(0, 0, 0);\">\n",
    "  <p style=\"text-align: justify;\"><span style=\"color: rgb(0, 128, 0);\">Model Descriptions</span></p>\n",
    "  <p style=\"text-align: justify;\">Exponential:&nbsp;<span style=\"color: rgb(169, 169, 169);\">The exponential model has been widely successful in capturing the increase in COVID-19 cases during the most rapid and difficult-to-mitigate phases. The exponential model takes a simple form and essentially captures the effect of repeated doubling over time (1, 2, 4, 8, …). In our modeling, predicted values of the exponential were determined by linear regression conducted on log(numbers of cases).</span></p>\n",
    "  <p style=\"text-align: justify;\">Polynomial (2nd order): <span style=\"color: rgb(169, 169, 169);\">A 2nd order polynomial (y ~ x2 + x) captures quadratic growth and is the expected outcome when the growth rate changes and when that rate of change is constant. The rate of increase in this model is initially faster than that of the exponential model. We obtained predicted values from this model using numerical optimization of parameters and curve fitting.</span></p>\n",
    "  <p style=\"text-align: justify;\">Logistic: <span style=\"color: rgb(169, 169, 169);\">When exponential growth slows and tapers-off, the growth curve often becomes logistic, that is, “S” shaped. The rate of increase in this model is initially exponential but slows as an upper limit is approached. We obtained predicted values from this model using numerical optimization of parameters and curve fitting.</span></p>\n",
    "  <p style=\"text-align: justify;\">SEIR-SD (Under continued development): <span style=\"color: rgb(169, 169, 169);\">An epidemiological model that attempts to predict the changes in numbers of people who are susceptible to COVID-19 infection, who have been exposed to COVID-19, who have been infected and are symptomatic, and who have recovered. This SEIR model uses the total population size of your chosen location (source: US Census 2010-2019), the date of the first COVID-19 case in your chosen location, the average incubation period of COVID-19 (default = 5 days), average infectious period (default 7 days), and an initial reproductive number (default = 4). The 'SD' in the model pertains to the inclusion of social distancing. The model assumes that social distancing naturally becomes more prevalent as the percent of the population infected with COVID-19 increases. The model also assumes that testing for COVID-19 was initially low but increased during the weeks following the first reported cases in the US.</span></p>\n",
    "  <p style=\"text-align: justify;\">Coefficients of determination (r-square values): <span style=\"color: rgb(169, 169, 169);\">These pertain to the relationship of observed values vs. predicted values and so, reveal the percent of variation in the observed values explained by the predicted values.</span></p>\n",
    "  \n",
    "  <p style=\"text-align: justify;\"><span style=\"color: rgb(0, 128, 0);\">Developer</span></p>\n",
    "  <p style=\"text-align: justify;\">Ken Locey, PhD, Data Science Analyst</p>\n",
    "  <p style=\"text-align: justify;\"><span style=\"color: rgb(0, 128, 0);\">Site Architect and Administrator</span></p>\n",
    "  <p style=\"text-align: justify;\">Jawad Khan, AVP, Advanced Analytics &amp; Knowledge Management</p>\n",
    "  <p style=\"text-align: justify;\"><span style=\"color: rgb(0, 128, 0);\">Center for Quality, Safety &amp; Value Analytics Leadership</span></p>\n",
    "  <p style=\"text-align: justify;\">Thomas A. Webb, MBA, Associate Vice President</p>\n",
    "  <p style=\"text-align: justify;\">Bala N. Hota, MD, MPH, Vice President, Chief Analytics Officer</p>\n",
    "  <p>\n",
    "  <br>\n",
    "  </p>\n",
    "</body>"
   ]
  },
  {
   "cell_type": "code",
   "execution_count": null,
   "metadata": {},
   "outputs": [],
   "source": []
  }
 ],
 "metadata": {
  "hide_input": false,
  "kernelspec": {
   "display_name": "Python 3",
   "language": "python",
   "name": "python3"
  },
  "language_info": {
   "codemirror_mode": {
    "name": "ipython",
    "version": 3
   },
   "file_extension": ".py",
   "mimetype": "text/x-python",
   "name": "python",
   "nbconvert_exporter": "python",
   "pygments_lexer": "ipython3",
   "version": "3.7.7"
  },
  "toc": {
   "base_numbering": 1,
   "nav_menu": {},
   "number_sections": true,
   "sideBar": true,
   "skip_h1_title": true,
   "title_cell": "Table of Contents",
   "title_sidebar": "Contents",
   "toc_cell": true,
   "toc_position": {},
   "toc_section_display": true,
   "toc_window_display": false
  },
  "varInspector": {
   "cols": {
    "lenName": 16,
    "lenType": 16,
    "lenVar": 40
   },
   "kernels_config": {
    "python": {
     "delete_cmd_postfix": "",
     "delete_cmd_prefix": "del ",
     "library": "var_list.py",
     "varRefreshCmd": "print(var_dic_list())"
    },
    "r": {
     "delete_cmd_postfix": ") ",
     "delete_cmd_prefix": "rm(",
     "library": "var_list.r",
     "varRefreshCmd": "cat(var_dic_list()) "
    }
   },
   "types_to_exclude": [
    "module",
    "function",
    "builtin_function_or_method",
    "instance",
    "_Feature"
   ],
   "window_display": false
  }
 },
 "nbformat": 4,
 "nbformat_minor": 2
}
