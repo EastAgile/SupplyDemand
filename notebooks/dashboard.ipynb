{
 "cells": [
  {
   "cell_type": "code",
   "execution_count": 1,
   "metadata": {},
   "outputs": [],
   "source": [
    "import ipywidgets as widgets # provides interactive functionality\n",
    "from IPython.display import HTML, display, clear_output # display and html functionality\n",
    "import csv # csv import functionality\n",
    "import time # library for time functionality\n",
    "\n",
    "import warnings # needed for suppression of unnecessary warnings\n",
    "import base64 # functionality for encoding binary data to ASCII characters and decoding back to binary data\n",
    "import sys # used to exit the program; for testing\n",
    "import app_class as app_cls\n",
    "\n",
    "warnings.filterwarnings('ignore')\n",
    "%config InlineBackend.figure_format = 'svg' # configure to display scalable vector graphics"
   ]
  },
  {
   "cell_type": "markdown",
   "metadata": {},
   "source": [
    "<img src=\"RUSH_full_color.jpg\" style=\"float:left; margin:0px 0px 0px 0px\" markdown=\"1\" width=\"400\"/>\n",
    "<font size=\"5\" color='green'>Center for Quality, Safety & Value Analytics</font>"
   ]
  },
  {
   "cell_type": "markdown",
   "metadata": {},
   "source": [
    "\n",
    "[Click for instructions on using this calculator](https://webalyticos.home.blog/2020/03/24/covd19forecast/)"
   ]
  },
  {
   "cell_type": "code",
   "execution_count": 2,
   "metadata": {
    "scrolled": false
   },
   "outputs": [
    {
     "ename": "ValueError",
     "evalue": "'Illinois' is not in list",
     "output_type": "error",
     "traceback": [
      "\u001b[0;31m---------------------------------------------------------------------------\u001b[0m",
      "\u001b[0;31mValueError\u001b[0m                                Traceback (most recent call last)",
      "\u001b[0;32m<ipython-input-2-c75ba9215180>\u001b[0m in \u001b[0;36m<module>\u001b[0;34m\u001b[0m\n\u001b[0;32m----> 1\u001b[0;31m \u001b[0mapp1\u001b[0m \u001b[0;34m=\u001b[0m \u001b[0mapp_cls\u001b[0m\u001b[0;34m.\u001b[0m\u001b[0mApp_GetFits\u001b[0m\u001b[0;34m.\u001b[0m\u001b[0mfrom_url\u001b[0m\u001b[0;34m(\u001b[0m\u001b[0;34m)\u001b[0m\u001b[0;34m\u001b[0m\u001b[0;34m\u001b[0m\u001b[0m\n\u001b[0m\u001b[1;32m      2\u001b[0m \u001b[0;34m\u001b[0m\u001b[0m\n\u001b[1;32m      3\u001b[0m \u001b[0mgrid\u001b[0m \u001b[0;34m=\u001b[0m \u001b[0mwidgets\u001b[0m\u001b[0;34m.\u001b[0m\u001b[0mGridspecLayout\u001b[0m\u001b[0;34m(\u001b[0m\u001b[0;36m1\u001b[0m\u001b[0;34m,\u001b[0m \u001b[0;36m1\u001b[0m\u001b[0;34m)\u001b[0m\u001b[0;34m\u001b[0m\u001b[0;34m\u001b[0m\u001b[0m\n\u001b[1;32m      4\u001b[0m \u001b[0mgrid\u001b[0m\u001b[0;34m[\u001b[0m\u001b[0;36m0\u001b[0m\u001b[0;34m,\u001b[0m \u001b[0;36m0\u001b[0m\u001b[0;34m]\u001b[0m \u001b[0;34m=\u001b[0m \u001b[0mapp1\u001b[0m\u001b[0;34m.\u001b[0m\u001b[0mcontainer\u001b[0m\u001b[0;34m\u001b[0m\u001b[0;34m\u001b[0m\u001b[0m\n\u001b[1;32m      5\u001b[0m \u001b[0;34m\u001b[0m\u001b[0m\n",
      "\u001b[0;32m~/GitHub/SupplyDemand/notebooks/app_class.py\u001b[0m in \u001b[0;36mfrom_url\u001b[0;34m(cls)\u001b[0m\n\u001b[1;32m    171\u001b[0m         \u001b[0map_df\u001b[0m\u001b[0;34m.\u001b[0m\u001b[0mdrop\u001b[0m\u001b[0;34m(\u001b[0m\u001b[0mcolumns\u001b[0m\u001b[0;34m=\u001b[0m\u001b[0;34m[\u001b[0m\u001b[0;34m'Unnamed: 0'\u001b[0m\u001b[0;34m]\u001b[0m\u001b[0;34m,\u001b[0m \u001b[0minplace\u001b[0m\u001b[0;34m=\u001b[0m\u001b[0;32mTrue\u001b[0m\u001b[0;34m)\u001b[0m\u001b[0;34m\u001b[0m\u001b[0;34m\u001b[0m\u001b[0m\n\u001b[1;32m    172\u001b[0m         \u001b[0;31m# reuse primary dataframe when updating the app\u001b[0m\u001b[0;34m\u001b[0m\u001b[0;34m\u001b[0m\u001b[0;34m\u001b[0m\u001b[0m\n\u001b[0;32m--> 173\u001b[0;31m         \u001b[0;32mreturn\u001b[0m \u001b[0mcls\u001b[0m\u001b[0;34m(\u001b[0m\u001b[0map_df\u001b[0m\u001b[0;34m)\u001b[0m\u001b[0;34m\u001b[0m\u001b[0;34m\u001b[0m\u001b[0m\n\u001b[0m\u001b[1;32m    174\u001b[0m \u001b[0;34m\u001b[0m\u001b[0m\n\u001b[1;32m    175\u001b[0m \u001b[0;34m\u001b[0m\u001b[0m\n",
      "\u001b[0;32m~/GitHub/SupplyDemand/notebooks/app_class.py\u001b[0m in \u001b[0;36m__init__\u001b[0;34m(self, df)\u001b[0m\n\u001b[1;32m     58\u001b[0m \u001b[0;34m\u001b[0m\u001b[0m\n\u001b[1;32m     59\u001b[0m         \u001b[0;31m# Find the index of your default location\u001b[0m\u001b[0;34m\u001b[0m\u001b[0;34m\u001b[0m\u001b[0;34m\u001b[0m\u001b[0m\n\u001b[0;32m---> 60\u001b[0;31m         \u001b[0mill\u001b[0m \u001b[0;34m=\u001b[0m \u001b[0mavailable_indicators2\u001b[0m\u001b[0;34m.\u001b[0m\u001b[0mindex\u001b[0m\u001b[0;34m(\u001b[0m\u001b[0;34m'Illinois'\u001b[0m\u001b[0;34m)\u001b[0m\u001b[0;34m\u001b[0m\u001b[0;34m\u001b[0m\u001b[0m\n\u001b[0m\u001b[1;32m     61\u001b[0m \u001b[0;34m\u001b[0m\u001b[0m\n\u001b[1;32m     62\u001b[0m         \u001b[0;31m# declare widgets: dropdowns, floattexts, toggle buttons, datepicker, etc.\u001b[0m\u001b[0;34m\u001b[0m\u001b[0;34m\u001b[0m\u001b[0;34m\u001b[0m\u001b[0m\n",
      "\u001b[0;31mValueError\u001b[0m: 'Illinois' is not in list"
     ]
    }
   ],
   "source": [
    "app1 = app_cls.App_GetFits.from_url()\n",
    "\n",
    "grid = widgets.GridspecLayout(1, 1)\n",
    "grid[0, 0] = app1.container\n",
    "\n",
    "app_contents = [grid]\n",
    "app = widgets.VBox(app_contents, layout=widgets.Layout(align_items='center'))\n",
    "\n",
    "display(app)\n",
    "\n",
    "\n",
    "\n",
    "b = widgets.Button(description='Get csv files for data contained within the above tables',\n",
    "    disabled=False, button_style='info', tooltip='Click me', layout={'width': '400px'}, icon='')\n",
    "\n",
    "display(b)\n",
    "out = widgets.Output()\n",
    "display(out)\n",
    "\n",
    "def on_button_clicked(b):\n",
    "    Forecasted_cases_df_for_download = app1.Forecasted_cases_df_for_download\n",
    "    Forecasted_patient_census_df_for_download = app1.Forecasted_patient_census_df_for_download\n",
    "    Forecasted_ppe_needs_df_for_download = app1.Forecasted_ppe_needs_df_for_download\n",
    "    model = app1.model\n",
    "    \n",
    "    with out:\n",
    "        clear_output()\n",
    "        \n",
    "        df = Forecasted_cases_df_for_download\n",
    "        title = \"Download CSV file of forecasted COVID-19 cases for \" + model + \" model\"\n",
    "        filename = \"Forecasted_COVID19_Cases.csv\"\n",
    "        csv = df.to_csv()\n",
    "        b64 = base64.b64encode(csv.encode())\n",
    "        payload = b64.decode()\n",
    "        html = '<a download=\"{filename}\" href=\"data:text/csv;base64,{payload}\" style=\"left; margin:0px 0px 0px 0px\" size=\"4\" target=\"_blank\">{title}</a>'\n",
    "        html = html.format(payload=payload,title=title,filename=filename)\n",
    "        display(HTML(html))\n",
    "        \n",
    "        \n",
    "        df = Forecasted_patient_census_df_for_download\n",
    "        title = \"Download CSV file of forecasted patient census for \" + model + \" model\" \n",
    "        filename = \"Forecasted_COVID19_Patient_Census.csv\"\n",
    "        csv = df.to_csv()\n",
    "        b64 = base64.b64encode(csv.encode())\n",
    "        payload = b64.decode()\n",
    "        html = '<a download=\"{filename}\" href=\"data:text/csv;base64,{payload}\" style=\"left; margin:0px 0px 0px 0px\" size=\"4\" target=\"_blank\">{title}</a>'\n",
    "        html = html.format(payload=payload,title=title,filename=filename)\n",
    "        display(HTML(html))\n",
    "        \n",
    "        \n",
    "        df = Forecasted_ppe_needs_df_for_download\n",
    "        title = \"Download CSV file of forecasted PPE needs for \" + model + \" model\"\n",
    "        filename = \"Forecasted_COVID19_PPE_Needs.csv\"\n",
    "        csv = df.to_csv()\n",
    "        b64 = base64.b64encode(csv.encode())\n",
    "        payload = b64.decode()\n",
    "        html = '<a download=\"{filename}\" href=\"data:text/csv;base64,{payload}\" style=\"left; margin:0px 0px 0px 0px\" size=\"4\" target=\"_blank\">{title}</a>'\n",
    "        html = html.format(payload=payload,title=title,filename=filename)\n",
    "        display(HTML(html))\n",
    "        \n",
    "        print('CSV Files will clear after 20 seconds')\n",
    "        time.sleep(20)\n",
    "        clear_output()\n",
    "        \n",
    "b.on_click(on_button_clicked)"
   ]
  },
  {
   "cell_type": "markdown",
   "metadata": {},
   "source": [
    "\n",
    "<body style=\"margin: 0px 0px 0px 0px; background-color: rgb(255, 255, 255); color: rgb(0, 0, 0);\">\n",
    "  <p style=\"text-align: justify;\"><span style=\"color: rgb(0, 128, 0);\">Model Descriptions</span></p>\n",
    "  <p style=\"text-align: justify;\">Exponential:&nbsp;<span style=\"color: rgb(169, 169, 169);\">The exponential model has been widely successful in capturing the increase in COVID-19 cases during the most rapid and difficult-to-mitigate phases. The exponential model takes a simple form and essentially captures the effect of repeated doubling over time (1, 2, 4, 8, …). In our modeling, predicted values of the exponential were determined by linear regression conducted on log(numbers of cases).</span></p>\n",
    "  <p style=\"text-align: justify;\">Polynomial (2nd order): <span style=\"color: rgb(169, 169, 169);\">A 2nd order polynomial (y ~ x2 + x) captures quadratic growth and is the expected outcome when the growth rate changes and when that rate of change is constant. The rate of increase in this model is initially faster than that of the exponential model. We obtained predicted values from this model using numerical optimization of parameters and curve fitting.</span></p>\n",
    "  <p style=\"text-align: justify;\">Logistic: <span style=\"color: rgb(169, 169, 169);\">When exponential growth slows and tapers-off, the growth curve often becomes logistic, that is, “S” shaped. The rate of increase in this model is initially exponential but slows as an upper limit is approached. We obtained predicted values from this model using numerical optimization of parameters and curve fitting.</span></p>\n",
    "  <p style=\"text-align: justify;\">SEIR-SD (Under continued development): <span style=\"color: rgb(169, 169, 169);\">An epidemiological model that attempts to predict the changes in numbers of people who are susceptible to COVID-19 infection, who have been exposed to COVID-19, who have been infected and are symptomatic, and who have recovered. This SEIR model uses the total population size you designate, the likely date of the first COVID-19 case in your focal area, average incubation period of COVID-19 (default = 5 days), average infectious period of (default 7 days), and an initial reproductive number (default = 3.5). The 'SD' in the model pertains to the inclusion of social distancing. The model assumes that social distancing rapidly becomes more prevalent as the percent of the population infected with COVID-19 increases. The model also assumes that testing for COVID-19 was initially low but increased during the weeks following the first reported cases in the US.</span></p>\n",
    "  <p style=\"text-align: justify;\">Coefficients of determination (r-square values): <span style=\"color: rgb(169, 169, 169);\">These pertain to the relationship of observed values vs. predicted values and so, reveal the percent of variation in the observed values explained by the predicted values.</span></p>\n",
    "  \n",
    "  <p style=\"text-align: justify;\"><span style=\"color: rgb(0, 128, 0);\">Developer</span></p>\n",
    "  <p style=\"text-align: justify;\">Ken Locey, PhD, Data Science Analyst</p>\n",
    "  <p style=\"text-align: justify;\"><span style=\"color: rgb(0, 128, 0);\">Site Architect and Administrator</span></p>\n",
    "  <p style=\"text-align: justify;\">Jawad Khan, AVP, Advanced Analytics &amp; Knowledge Management</p>\n",
    "  <p style=\"text-align: justify;\"><span style=\"color: rgb(0, 128, 0);\">Center for Quality, Safety &amp; Value Analytics Leadership</span></p>\n",
    "  <p style=\"text-align: justify;\">Thomas A. Webb, MBA, Associate Vice President</p>\n",
    "  <p style=\"text-align: justify;\">Bala N. Hota, MD, MPH, Vice President, Chief Analytics Officer</p>\n",
    "  <p>\n",
    "  <br>\n",
    "  </p>\n",
    "</body>"
   ]
  },
  {
   "cell_type": "code",
   "execution_count": null,
   "metadata": {},
   "outputs": [],
   "source": []
  }
 ],
 "metadata": {
  "hide_input": false,
  "kernelspec": {
   "display_name": "Python 3",
   "language": "python",
   "name": "python3"
  },
  "language_info": {
   "codemirror_mode": {
    "name": "ipython",
    "version": 3
   },
   "file_extension": ".py",
   "mimetype": "text/x-python",
   "name": "python",
   "nbconvert_exporter": "python",
   "pygments_lexer": "ipython3",
   "version": "3.7.7"
  },
  "toc": {
   "base_numbering": 1,
   "nav_menu": {},
   "number_sections": true,
   "sideBar": true,
   "skip_h1_title": true,
   "title_cell": "Table of Contents",
   "title_sidebar": "Contents",
   "toc_cell": true,
   "toc_position": {},
   "toc_section_display": true,
   "toc_window_display": false
  },
  "varInspector": {
   "cols": {
    "lenName": 16,
    "lenType": 16,
    "lenVar": 40
   },
   "kernels_config": {
    "python": {
     "delete_cmd_postfix": "",
     "delete_cmd_prefix": "del ",
     "library": "var_list.py",
     "varRefreshCmd": "print(var_dic_list())"
    },
    "r": {
     "delete_cmd_postfix": ") ",
     "delete_cmd_prefix": "rm(",
     "library": "var_list.r",
     "varRefreshCmd": "cat(var_dic_list()) "
    }
   },
   "types_to_exclude": [
    "module",
    "function",
    "builtin_function_or_method",
    "instance",
    "_Feature"
   ],
   "window_display": false
  }
 },
 "nbformat": 4,
 "nbformat_minor": 2
}
